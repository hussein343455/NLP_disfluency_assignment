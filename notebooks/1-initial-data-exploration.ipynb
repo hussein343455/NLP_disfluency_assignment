{
 "cells": [
  {
   "metadata": {
    "ExecuteTime": {
     "end_time": "2025-07-28T02:57:36.839250Z",
     "start_time": "2025-07-28T02:57:36.428953Z"
    }
   },
   "cell_type": "code",
   "source": [
    "from datasets import Dataset, DatasetDict\n",
    "import json\n",
    "\n",
    "\n",
    "def reorder_json(data_old_structure, key_name):\n",
    "    \"\"\"Converts a dictionary of records into a Hugging Face Dataset object.\"\"\"\n",
    "\n",
    "    # Check the structure of each item in the dictionary\n",
    "    for item_id, content in data_old_structure.items():\n",
    "        # Check if the content is a dictionary and has the required keys\n",
    "        if not (isinstance(content, dict) and 'original' in content and 'disfluent' in content):\n",
    "            print(f\"Validation failed: Item '{item_id}' has a un expected structure and will not be loaded.\")\n",
    "            return None\n",
    "\n",
    "    data_new_structure = []\n",
    "    for item_id, content in data_old_structure.items():\n",
    "        record = {\n",
    "            'id': item_id,\n",
    "            'disfluent': content.get('disfluent'),\n",
    "            'original': content.get('original')\n",
    "        }\n",
    "        data_new_structure.append(record)\n",
    "\n",
    "    hugging_dataset = Dataset.from_list(data_new_structure)\n",
    "    dataset_dict = DatasetDict({\n",
    "        key_name: hugging_dataset\n",
    "    })\n",
    "    return dataset_dict\n",
    "\n",
    "\n",
    "def load_dataset_from_raw(all_file_paths):\n",
    "    \"\"\"Load the dataset, \"\"\"\n",
    "    full_dataset = DatasetDict()\n",
    "    for key_name, file_path in all_file_paths.items():\n",
    "        try:\n",
    "            print(f\"Processing '{key_name}' split from {file_path}...\")\n",
    "            with open(file_path, 'r', encoding='utf-8') as f:\n",
    "                loaded_file = json.load(f)\n",
    "\n",
    "            single_reordered_dict = reorder_json(loaded_file, key_name=key_name)\n",
    "            full_dataset[key_name] = single_reordered_dict[key_name]\n",
    "\n",
    "        except FileNotFoundError:\n",
    "            print(f\" Error: The file '{file_path}' was not found. Skipping.\")\n",
    "        except Exception as e:\n",
    "            print(f\"An error occurred while processing {file_path}: {e}\")\n",
    "\n",
    "    print(\"\\n✅ Raw Data Loaded Successfully:\")\n",
    "    return full_dataset\n",
    "\n",
    "# 1. Define the exact paths to your data files.\n",
    "file_paths = {\n",
    "    'train': '../Data/raw/train.json',\n",
    "    'val': '../Data/raw/dev.json',\n",
    "    'test': '../Data/raw/test.json'\n",
    "}\n",
    "\n",
    "# 2. Initialize an empty DatasetDict to hold the combined results.\n",
    "final_dataset = load_dataset_from_raw(file_paths)\n"
   ],
   "id": "ad6232f9593d336c",
   "outputs": [
    {
     "name": "stdout",
     "output_type": "stream",
     "text": [
      "Processing 'train' split from ../Data/raw/train.json...\n",
      "Processing 'val' split from ../Data/raw/dev.json...\n",
      "Processing 'test' split from ../Data/raw/test.json...\n",
      "\n",
      "✅ Raw Data Loaded Successfully:\n"
     ]
    }
   ],
   "execution_count": 1
  },
  {
   "metadata": {
    "ExecuteTime": {
     "end_time": "2025-07-28T02:57:41.454877Z",
     "start_time": "2025-07-28T02:57:41.431092Z"
    }
   },
   "cell_type": "code",
   "source": [
    "num_samples = 5\n",
    "shuffled_dataset = final_dataset[\"train\"].shuffle()\n",
    "random_samples = shuffled_dataset.select(range(num_samples))\n",
    "random_samples"
   ],
   "id": "eb19d569b9ae978f",
   "outputs": [
    {
     "data": {
      "text/plain": [
       "Dataset({\n",
       "    features: ['id', 'disfluent', 'original'],\n",
       "    num_rows: 5\n",
       "})"
      ]
     },
     "execution_count": 2,
     "metadata": {},
     "output_type": "execute_result"
    }
   ],
   "execution_count": 2
  },
  {
   "metadata": {
    "ExecuteTime": {
     "end_time": "2025-07-28T02:57:46.045982Z",
     "start_time": "2025-07-28T02:57:43.478136Z"
    }
   },
   "cell_type": "code",
   "source": [
    "import matplotlib.pyplot as plt\n",
    "import seaborn as sns\n",
    "import nltk\n",
    "\n",
    "# --- 1. Quantify the difference using Levenshtein Distance ---\n",
    "# Levenshtein distance measures the number of edits (insertions, deletions, substitutions)\n",
    "# needed to change one string into the other.\n",
    "\n",
    "def calculate_levenshtein(example):\n",
    "    \"\"\"Calculates the Levenshtein distance between disfluent and original sentences.\"\"\"\n",
    "    disfluent = example['disfluent']\n",
    "    original = example['original']\n",
    "    # We calculate distance on lowercased text to focus on structure, not capitalization.\n",
    "    distance = nltk.edit_distance(disfluent.lower().split(), original.lower().split())\n",
    "    example['levenshtein_distance'] = distance\n",
    "    return example\n",
    "\n",
    "# Apply the function to the training set\n",
    "train_df_with_dist = final_dataset['train'].map(calculate_levenshtein)\n",
    "\n",
    "# Convert to pandas DataFrame for easier plotting\n",
    "df = train_df_with_dist.to_pandas()\n",
    "# Plot the distribution of Levenshtein distances\n",
    "fig, ax = plt.subplots(figsize=(12, 6))\n",
    "sns.histplot(df['levenshtein_distance'], bins=20)\n",
    "ax.set_xlabel('Levenshtein Distance')\n",
    "ax.set_ylabel('Frequency')\n",
    "plt.show()"
   ],
   "id": "77cd8fbe6e87e82e",
   "outputs": [
    {
     "data": {
      "text/plain": [
       "Map:   0%|          | 0/7182 [00:00<?, ? examples/s]"
      ],
      "application/vnd.jupyter.widget-view+json": {
       "version_major": 2,
       "version_minor": 0,
       "model_id": "a6027f076cb34602a09b171a5c94a17b"
      }
     },
     "metadata": {},
     "output_type": "display_data"
    },
    {
     "data": {
      "text/plain": [
       "<Figure size 1200x600 with 1 Axes>"
      ],
      "image/png": "[encoded data removed]"
     },
     "metadata": {},
     "output_type": "display_data"
    }
   ],
   "execution_count": 3
  },
  {
   "metadata": {
    "ExecuteTime": {
     "end_time": "2025-07-27T22:15:36.182747Z",
     "start_time": "2025-07-27T22:15:36.167048Z"
    }
   },
   "cell_type": "code",
   "source": [
    "# show the largest differance\n",
    "samples = df.nlargest(5, 'levenshtein_distance')[['disfluent', 'original', 'levenshtein_distance']]\n",
    "samples"
   ],
   "id": "66b832a8808c2ccf",
   "outputs": [
    {
     "data": {
      "text/plain": [
       "                                              disfluent  \\\n",
       "6897  Question\\tAnswer What is the dispensary subjec...   \n",
       "535   Barro found high levels of inequality no let m...   \n",
       "1181  When a country is the core and developing nati...   \n",
       "4938  What condition what must be satisfied in order...   \n",
       "1200  What did Hobson argue that imperialism was no ...   \n",
       "\n",
       "                                               original  levenshtein_distance  \n",
       "6897  What do pharmacy technicians depend on less an...                    73  \n",
       "535   Barro found there is much relation between inc...                    33  \n",
       "1181  One country's authority over a number of other...                    33  \n",
       "4938  According to Wilson's theorem, what factorial ...                    31  \n",
       "1200  There is some debate that there is a not corre...                    27  "
      ],
      "text/html": [
       "<div>\n",
       "<style scoped>\n",
       "    .dataframe tbody tr th:only-of-type {\n",
       "        vertical-align: middle;\n",
       "    }\n",
       "\n",
       "    .dataframe tbody tr th {\n",
       "        vertical-align: top;\n",
       "    }\n",
       "\n",
       "    .dataframe thead th {\n",
       "        text-align: right;\n",
       "    }\n",
       "</style>\n",
       "<table border=\"1\" class=\"dataframe\">\n",
       "  <thead>\n",
       "    <tr style=\"text-align: right;\">\n",
       "      <th></th>\n",
       "      <th>disfluent</th>\n",
       "      <th>original</th>\n",
       "      <th>levenshtein_distance</th>\n",
       "    </tr>\n",
       "  </thead>\n",
       "  <tbody>\n",
       "    <tr>\n",
       "      <th>6897</th>\n",
       "      <td>Question\\tAnswer What is the dispensary subjec...</td>\n",
       "      <td>What do pharmacy technicians depend on less an...</td>\n",
       "      <td>73</td>\n",
       "    </tr>\n",
       "    <tr>\n",
       "      <th>535</th>\n",
       "      <td>Barro found high levels of inequality no let m...</td>\n",
       "      <td>Barro found there is much relation between inc...</td>\n",
       "      <td>33</td>\n",
       "    </tr>\n",
       "    <tr>\n",
       "      <th>1181</th>\n",
       "      <td>When a country is the core and developing nati...</td>\n",
       "      <td>One country's authority over a number of other...</td>\n",
       "      <td>33</td>\n",
       "    </tr>\n",
       "    <tr>\n",
       "      <th>4938</th>\n",
       "      <td>What condition what must be satisfied in order...</td>\n",
       "      <td>According to Wilson's theorem, what factorial ...</td>\n",
       "      <td>31</td>\n",
       "    </tr>\n",
       "    <tr>\n",
       "      <th>1200</th>\n",
       "      <td>What did Hobson argue that imperialism was no ...</td>\n",
       "      <td>There is some debate that there is a not corre...</td>\n",
       "      <td>27</td>\n",
       "    </tr>\n",
       "  </tbody>\n",
       "</table>\n",
       "</div>"
      ]
     },
     "execution_count": 22,
     "metadata": {},
     "output_type": "execute_result"
    }
   ],
   "execution_count": 22
  },
  {
   "cell_type": "code",
   "id": "ab828acd-b239-455a-b934-0116d600f742",
   "metadata": {
    "ExecuteTime": {
     "end_time": "2025-07-27T22:15:39.217591Z",
     "start_time": "2025-07-27T22:15:38.844437Z"
    }
   },
   "source": [
    "# Identify and count common filler words ---\n",
    "FILLER_WORDS = {'uh', 'uhm', 'um', 'like', 'so', 'you know', 'i mean', 'no'}\n",
    "def count_filler_words(example):\n",
    "    \"\"\"Counts the number of filler words in the disfluent sentence.\"\"\"\n",
    "    text = example['disfluent'].lower()\n",
    "    count = sum(1 for filler in FILLER_WORDS if filler in text.split())\n",
    "    example['filler_word_count'] = count\n",
    "    return example\n",
    "\n",
    "# Apply the function\n",
    "train_df_with_fillers = final_dataset['train'].map(count_filler_words)\n",
    "df_fillers = train_df_with_fillers.to_pandas()\n",
    "\n",
    "# Display statistics\n",
    "total_sentences = len(df_fillers)\n",
    "sentences_with_fillers = len(df_fillers[df_fillers['filler_word_count'] > 0])\n",
    "percentage_with_fillers = (sentences_with_fillers / total_sentences) * 100\n",
    "\n",
    "print(f\"Analysis of Filler Words in 'train' split:\")\n",
    "print(f\"Total sentences: {total_sentences}\")\n",
    "print(f\"Sentences containing at least one filler word: {sentences_with_fillers}\")\n",
    "print(f\"Percentage of sentences with filler words: {percentage_with_fillers:.2f}%\")\n"
   ],
   "outputs": [
    {
     "data": {
      "text/plain": [
       "Map:   0%|          | 0/7182 [00:00<?, ? examples/s]"
      ],
      "application/vnd.jupyter.widget-view+json": {
       "version_major": 2,
       "version_minor": 0,
       "model_id": "429c01a4317d4cf2b94d66ef8b9634d5"
      }
     },
     "metadata": {},
     "output_type": "display_data"
    },
    {
     "name": "stdout",
     "output_type": "stream",
     "text": [
      "Analysis of Filler Words in 'train' split:\n",
      "Total sentences: 7182\n",
      "Sentences containing at least one filler word: 4344\n",
      "Percentage of sentences with filler words: 60.48%\n"
     ]
    }
   ],
   "execution_count": 23
  },
  {
   "metadata": {
    "ExecuteTime": {
     "end_time": "2025-07-27T22:17:45.903241Z",
     "start_time": "2025-07-27T22:17:45.512011Z"
    }
   },
   "cell_type": "code",
   "source": [
    "def calculate_lengths(example):\n",
    "    \"\"\"Calculates word counts for disfluent and original sentences.\"\"\"\n",
    "    example['disfluent_length'] = len(example['disfluent'].split())\n",
    "    example['original_length'] = len(example['original'].split())\n",
    "    example['length_difference'] = example['disfluent_length'] - example['original_length']\n",
    "    return example\n",
    "\n",
    "# Apply the function to the training data\n",
    "train_df_with_lengths = final_dataset['train'].map(calculate_lengths)\n",
    "df_lengths = train_df_with_lengths.to_pandas()\n",
    "df_lengths"
   ],
   "id": "79257274405399c7",
   "outputs": [
    {
     "data": {
      "text/plain": [
       "Map:   0%|          | 0/7182 [00:00<?, ? examples/s]"
      ],
      "application/vnd.jupyter.widget-view+json": {
       "version_major": 2,
       "version_minor": 0,
       "model_id": "1238311d5f7a48e1ba013bce6edf91bf"
      }
     },
     "metadata": {},
     "output_type": "display_data"
    },
    {
     "data": {
      "text/plain": [
       "                            id  \\\n",
       "0     5a5918ff3e1742001a15cf7e   \n",
       "1     5ad4f40c5b96ef001a10a774   \n",
       "2     572684365951b619008f7543   \n",
       "3     5729f799af94a219006aa70a   \n",
       "4     5ad3b9cd604f3c001a3fee87   \n",
       "...                        ...   \n",
       "7177  57265d86f1498d1400e8dd53   \n",
       "7178  5ad26aedd7d075001a429332   \n",
       "7179  5ad402ae604f3c001a3ffd61   \n",
       "7180  5ad4f1365b96ef001a10a70c   \n",
       "7181  5ad405f0604f3c001a3ffe2f   \n",
       "\n",
       "                                              disfluent  \\\n",
       "0     What do petrologists no what do unstable isoto...   \n",
       "1     What is the second level of territorial divisi...   \n",
       "2     Juvenile platyctenids no wow Which genus lack ...   \n",
       "3     When a pathogen is met again scratch that I me...   \n",
       "4     What led to the Duke of Cumberland's rise to p...   \n",
       "...                                                 ...   \n",
       "7177  How does or actually what does the beroe do wh...   \n",
       "7178  A static equilibrium between two no three sour...   \n",
       "7179  When did Li Tan install the hostage no no when...   \n",
       "7180  Where was no no um what was there a significan...   \n",
       "7181  How long after a banquet with Yes\\u00fcn Tem\\u...   \n",
       "\n",
       "                                               original  disfluent_length  \\\n",
       "0            What do unstable isotope studies indicate?                10   \n",
       "1     What is the basic unit of territorial division...                21   \n",
       "2               Which genus lack tentacles and sheaths?                10   \n",
       "3     Long-lived memory cells can remember previous ...                21   \n",
       "4     What led to Newcastle's rise to power as milit...                16   \n",
       "...                                                 ...               ...   \n",
       "7177         What does the beroe do when pursuing prey?                12   \n",
       "7178  A static equilibrium between three sources is ...                14   \n",
       "7179                   When did Li Tan reject a revolt?                15   \n",
       "7180  What was there a significant minority of in Wo...                16   \n",
       "7181   How long after a banquet with Tugh Temur did ...                18   \n",
       "\n",
       "      original_length  length_difference  \n",
       "0                   6                  4  \n",
       "1                  10                 11  \n",
       "2                   6                  4  \n",
       "3                   9                 12  \n",
       "4                  10                  6  \n",
       "...               ...                ...  \n",
       "7177                8                  4  \n",
       "7178               12                  2  \n",
       "7179                7                  8  \n",
       "7180               11                  5  \n",
       "7181               13                  5  \n",
       "\n",
       "[7182 rows x 6 columns]"
      ],
      "text/html": [
       "<div>\n",
       "<style scoped>\n",
       "    .dataframe tbody tr th:only-of-type {\n",
       "        vertical-align: middle;\n",
       "    }\n",
       "\n",
       "    .dataframe tbody tr th {\n",
       "        vertical-align: top;\n",
       "    }\n",
       "\n",
       "    .dataframe thead th {\n",
       "        text-align: right;\n",
       "    }\n",
       "</style>\n",
       "<table border=\"1\" class=\"dataframe\">\n",
       "  <thead>\n",
       "    <tr style=\"text-align: right;\">\n",
       "      <th></th>\n",
       "      <th>id</th>\n",
       "      <th>disfluent</th>\n",
       "      <th>original</th>\n",
       "      <th>disfluent_length</th>\n",
       "      <th>original_length</th>\n",
       "      <th>length_difference</th>\n",
       "    </tr>\n",
       "  </thead>\n",
       "  <tbody>\n",
       "    <tr>\n",
       "      <th>0</th>\n",
       "      <td>5a5918ff3e1742001a15cf7e</td>\n",
       "      <td>What do petrologists no what do unstable isoto...</td>\n",
       "      <td>What do unstable isotope studies indicate?</td>\n",
       "      <td>10</td>\n",
       "      <td>6</td>\n",
       "      <td>4</td>\n",
       "    </tr>\n",
       "    <tr>\n",
       "      <th>1</th>\n",
       "      <td>5ad4f40c5b96ef001a10a774</td>\n",
       "      <td>What is the second level of territorial divisi...</td>\n",
       "      <td>What is the basic unit of territorial division...</td>\n",
       "      <td>21</td>\n",
       "      <td>10</td>\n",
       "      <td>11</td>\n",
       "    </tr>\n",
       "    <tr>\n",
       "      <th>2</th>\n",
       "      <td>572684365951b619008f7543</td>\n",
       "      <td>Juvenile platyctenids no wow Which genus lack ...</td>\n",
       "      <td>Which genus lack tentacles and sheaths?</td>\n",
       "      <td>10</td>\n",
       "      <td>6</td>\n",
       "      <td>4</td>\n",
       "    </tr>\n",
       "    <tr>\n",
       "      <th>3</th>\n",
       "      <td>5729f799af94a219006aa70a</td>\n",
       "      <td>When a pathogen is met again scratch that I me...</td>\n",
       "      <td>Long-lived memory cells can remember previous ...</td>\n",
       "      <td>21</td>\n",
       "      <td>9</td>\n",
       "      <td>12</td>\n",
       "    </tr>\n",
       "    <tr>\n",
       "      <th>4</th>\n",
       "      <td>5ad3b9cd604f3c001a3fee87</td>\n",
       "      <td>What led to the Duke of Cumberland's rise to p...</td>\n",
       "      <td>What led to Newcastle's rise to power as milit...</td>\n",
       "      <td>16</td>\n",
       "      <td>10</td>\n",
       "      <td>6</td>\n",
       "    </tr>\n",
       "    <tr>\n",
       "      <th>...</th>\n",
       "      <td>...</td>\n",
       "      <td>...</td>\n",
       "      <td>...</td>\n",
       "      <td>...</td>\n",
       "      <td>...</td>\n",
       "      <td>...</td>\n",
       "    </tr>\n",
       "    <tr>\n",
       "      <th>7177</th>\n",
       "      <td>57265d86f1498d1400e8dd53</td>\n",
       "      <td>How does or actually what does the beroe do wh...</td>\n",
       "      <td>What does the beroe do when pursuing prey?</td>\n",
       "      <td>12</td>\n",
       "      <td>8</td>\n",
       "      <td>4</td>\n",
       "    </tr>\n",
       "    <tr>\n",
       "      <th>7178</th>\n",
       "      <td>5ad26aedd7d075001a429332</td>\n",
       "      <td>A static equilibrium between two no three sour...</td>\n",
       "      <td>A static equilibrium between three sources is ...</td>\n",
       "      <td>14</td>\n",
       "      <td>12</td>\n",
       "      <td>2</td>\n",
       "    </tr>\n",
       "    <tr>\n",
       "      <th>7179</th>\n",
       "      <td>5ad402ae604f3c001a3ffd61</td>\n",
       "      <td>When did Li Tan install the hostage no no when...</td>\n",
       "      <td>When did Li Tan reject a revolt?</td>\n",
       "      <td>15</td>\n",
       "      <td>7</td>\n",
       "      <td>8</td>\n",
       "    </tr>\n",
       "    <tr>\n",
       "      <th>7180</th>\n",
       "      <td>5ad4f1365b96ef001a10a70c</td>\n",
       "      <td>Where was no no um what was there a significan...</td>\n",
       "      <td>What was there a significant minority of in Wo...</td>\n",
       "      <td>16</td>\n",
       "      <td>11</td>\n",
       "      <td>5</td>\n",
       "    </tr>\n",
       "    <tr>\n",
       "      <th>7181</th>\n",
       "      <td>5ad405f0604f3c001a3ffe2f</td>\n",
       "      <td>How long after a banquet with Yes\\u00fcn Tem\\u...</td>\n",
       "      <td>How long after a banquet with Tugh Temur did ...</td>\n",
       "      <td>18</td>\n",
       "      <td>13</td>\n",
       "      <td>5</td>\n",
       "    </tr>\n",
       "  </tbody>\n",
       "</table>\n",
       "<p>7182 rows × 6 columns</p>\n",
       "</div>"
      ]
     },
     "execution_count": 25,
     "metadata": {},
     "output_type": "execute_result"
    }
   ],
   "execution_count": 25
  },
  {
   "metadata": {
    "ExecuteTime": {
     "end_time": "2025-07-28T02:59:35.137764Z",
     "start_time": "2025-07-28T02:59:35.002073Z"
    }
   },
   "cell_type": "code",
   "source": [
    "# these items need to be deleted\n",
    "items = [item for item in final_dataset['train']\n",
    "         if item['id'] == \"572634a789a1e219009ac56f\"]\n",
    "\n",
    "print(items)"
   ],
   "id": "d3ad21b8cf73c42b",
   "outputs": [
    {
     "name": "stdout",
     "output_type": "stream",
     "text": [
      "[{'id': '572634a789a1e219009ac56f', 'disfluent': '#VALUE!', 'original': 'How is packet switching characterized '}]\n"
     ]
    }
   ],
   "execution_count": 4
  },
  {
   "cell_type": "code",
   "id": "887c98c0-529a-4f9a-a178-2149999419ec",
   "metadata": {
    "ExecuteTime": {
     "end_time": "2025-07-28T02:59:40.186236Z",
     "start_time": "2025-07-28T02:59:39.375659Z"
    }
   },
   "source": [
    "import pandas as pd\n",
    "import matplotlib.pyplot as plt\n",
    "import seaborn as sns\n",
    "\n",
    "# Assuming 'final_dataset' is your DatasetDict\n",
    "\n",
    "def calculate_lengths(example):\n",
    "    \"\"\"Calculates word counts for disfluent and original sentences.\"\"\"\n",
    "    example['disfluent_length'] = len(example['disfluent'].split())\n",
    "    example['original_length'] = len(example['original'].split())\n",
    "    example['length_difference'] = example['disfluent_length'] - example['original_length']\n",
    "    return example\n",
    "\n",
    "# Apply the function to the training data\n",
    "train_df_with_lengths = final_dataset['train'].map(calculate_lengths)\n",
    "df_lengths = train_df_with_lengths.to_pandas()\n",
    "\n",
    "# --- Plot the distributions ---\n",
    "fig, axes = plt.subplots(1, 3, figsize=(20, 6))\n",
    "\n",
    "# Plot for Disfluent Lengths\n",
    "sns.histplot(df_lengths['disfluent_length'], bins=20, kde=True, ax=axes[0], color='skyblue')\n",
    "axes[0].set_title('Distribution of Disfluent Sentence Lengths', fontsize=14)\n",
    "axes[0].set_xlabel('Word Count', fontsize=12)\n",
    "axes[0].set_ylabel('Frequency', fontsize=12)\n",
    "\n",
    "# Plot for Original Lengths\n",
    "sns.histplot(df_lengths['original_length'], bins=20, kde=True, ax=axes[1], color='salmon')\n",
    "axes[1].set_title('Distribution of Original Sentence Lengths', fontsize=14)\n",
    "axes[1].set_xlabel('Word Count', fontsize=12)\n",
    "\n",
    "# Plot for Length Difference\n",
    "sns.histplot(df_lengths['length_difference'], bins=15, kde=True, ax=axes[2], color='lightgreen')\n",
    "axes[2].set_title('Distribution of Length Difference', fontsize=14)\n",
    "axes[2].set_xlabel('Word Count Difference (Disfluent - Original)', fontsize=12)\n",
    "\n",
    "plt.tight_layout()\n",
    "plt.show()\n",
    "\n",
    "# Print key statistics\n",
    "print(\"Key statistics for sequence lengths in 'train' split:\")\n",
    "print(df_lengths[['disfluent_length', 'original_length', 'length_difference']].describe())\n"
   ],
   "outputs": [
    {
     "data": {
      "text/plain": [
       "Map:   0%|          | 0/7182 [00:00<?, ? examples/s]"
      ],
      "application/vnd.jupyter.widget-view+json": {
       "version_major": 2,
       "version_minor": 0,
       "model_id": "96c10724c5764af99cadd363ebfaff95"
      }
     },
     "metadata": {},
     "output_type": "display_data"
    },
    {
     "data": {
      "text/plain": [
       "<Figure size 2000x600 with 3 Axes>"
      ],
      "image/png": "[encoded data removed]"
     },
     "metadata": {},
     "output_type": "display_data"
    },
    {
     "name": "stdout",
     "output_type": "stream",
     "text": [
      "Key statistics for sequence lengths in 'train' split:\n",
      "       disfluent_length  original_length  length_difference\n",
      "count       7182.000000      7182.000000        7182.000000\n",
      "mean          14.523810         9.830409           4.693400\n",
      "std            4.554876         3.369577           2.994142\n",
      "min            0.000000         3.000000         -14.000000\n",
      "25%           11.000000         7.000000           3.000000\n",
      "50%           14.000000         9.000000           4.000000\n",
      "75%           17.000000        12.000000           6.000000\n",
      "max           82.000000        29.000000          73.000000\n"
     ]
    }
   ],
   "execution_count": 5
  },
  {
   "metadata": {
    "ExecuteTime": {
     "end_time": "2025-07-28T02:59:45.176290Z",
     "start_time": "2025-07-28T02:59:45.152337Z"
    }
   },
   "cell_type": "code",
   "source": [
    "# see values where\n",
    "df_lengths[df_lengths['length_difference'] < 2]"
   ],
   "id": "2da9d5a72892ba90",
   "outputs": [
    {
     "data": {
      "text/plain": [
       "                            id  \\\n",
       "112   572667e2f1498d1400e8de90   \n",
       "153   572a0a686aef0514001551ec   \n",
       "192   57273d8bf1498d1400e8f501   \n",
       "197   57264cfa708984140094c1c7   \n",
       "264   572815d9ff5b5019007d9cc0   \n",
       "...                        ...   \n",
       "6848  5726219489a1e219009ac2d0   \n",
       "6921  5a67aa48f038b7001ab0c3ff   \n",
       "6951  5a551230134fea001a0e18cc   \n",
       "6994  5729e38daf94a219006aa6a1   \n",
       "7166  5727dd2e4b864d1900163ebd   \n",
       "\n",
       "                                              disfluent  \\\n",
       "112   which are older than the rocks themselves, Wha...   \n",
       "153                                        Question N/A   \n",
       "192   what construction sector are Large public work...   \n",
       "197          How long does flagella no sorry Cilia get?   \n",
       "264   what modern form of travel brought visitors to...   \n",
       "...                                                 ...   \n",
       "6848                                            #VALUE!   \n",
       "6921  What missionary actions led to law in 1994 no ...   \n",
       "6951                                            #VALUE!   \n",
       "6994  the U.S has What level of economic mobility in...   \n",
       "7166  what date did Harvard win an Intercolleiate Sa...   \n",
       "\n",
       "                                               original  disfluent_length  \\\n",
       "112   What foreign bodies, which are older than the ...                14   \n",
       "153   What were the two main theories of immunity at...                 2   \n",
       "192   Large public works, dams, bridges, highways, w...                16   \n",
       "197                  Cilia can g ow up too what length?                 8   \n",
       "264   Other than the steamboat, what modern form of ...                13   \n",
       "...                                                 ...               ...   \n",
       "6848  In cases of shared physical medium how are the...                 1   \n",
       "6921  What did missionaries cause to become law in 1...                10   \n",
       "6951                            DECnet stands for what?                 1   \n",
       "6994  What level of economic mobility does the U.S. ...                15   \n",
       "7166  In what year did Harvard win an Intercolleiate...                11   \n",
       "\n",
       "      original_length  length_difference  \n",
       "112                13                  1  \n",
       "153                15                -13  \n",
       "192                15                  1  \n",
       "197                 8                  0  \n",
       "264                13                  0  \n",
       "...               ...                ...  \n",
       "6848               10                 -9  \n",
       "6921                9                  1  \n",
       "6951                4                 -3  \n",
       "6994               14                  1  \n",
       "7166               12                 -1  \n",
       "\n",
       "[141 rows x 6 columns]"
      ],
      "text/html": [
       "<div>\n",
       "<style scoped>\n",
       "    .dataframe tbody tr th:only-of-type {\n",
       "        vertical-align: middle;\n",
       "    }\n",
       "\n",
       "    .dataframe tbody tr th {\n",
       "        vertical-align: top;\n",
       "    }\n",
       "\n",
       "    .dataframe thead th {\n",
       "        text-align: right;\n",
       "    }\n",
       "</style>\n",
       "<table border=\"1\" class=\"dataframe\">\n",
       "  <thead>\n",
       "    <tr style=\"text-align: right;\">\n",
       "      <th></th>\n",
       "      <th>id</th>\n",
       "      <th>disfluent</th>\n",
       "      <th>original</th>\n",
       "      <th>disfluent_length</th>\n",
       "      <th>original_length</th>\n",
       "      <th>length_difference</th>\n",
       "    </tr>\n",
       "  </thead>\n",
       "  <tbody>\n",
       "    <tr>\n",
       "      <th>112</th>\n",
       "      <td>572667e2f1498d1400e8de90</td>\n",
       "      <td>which are older than the rocks themselves, Wha...</td>\n",
       "      <td>What foreign bodies, which are older than the ...</td>\n",
       "      <td>14</td>\n",
       "      <td>13</td>\n",
       "      <td>1</td>\n",
       "    </tr>\n",
       "    <tr>\n",
       "      <th>153</th>\n",
       "      <td>572a0a686aef0514001551ec</td>\n",
       "      <td>Question N/A</td>\n",
       "      <td>What were the two main theories of immunity at...</td>\n",
       "      <td>2</td>\n",
       "      <td>15</td>\n",
       "      <td>-13</td>\n",
       "    </tr>\n",
       "    <tr>\n",
       "      <th>192</th>\n",
       "      <td>57273d8bf1498d1400e8f501</td>\n",
       "      <td>what construction sector are Large public work...</td>\n",
       "      <td>Large public works, dams, bridges, highways, w...</td>\n",
       "      <td>16</td>\n",
       "      <td>15</td>\n",
       "      <td>1</td>\n",
       "    </tr>\n",
       "    <tr>\n",
       "      <th>197</th>\n",
       "      <td>57264cfa708984140094c1c7</td>\n",
       "      <td>How long does flagella no sorry Cilia get?</td>\n",
       "      <td>Cilia can g ow up too what length?</td>\n",
       "      <td>8</td>\n",
       "      <td>8</td>\n",
       "      <td>0</td>\n",
       "    </tr>\n",
       "    <tr>\n",
       "      <th>264</th>\n",
       "      <td>572815d9ff5b5019007d9cc0</td>\n",
       "      <td>what modern form of travel brought visitors to...</td>\n",
       "      <td>Other than the steamboat, what modern form of ...</td>\n",
       "      <td>13</td>\n",
       "      <td>13</td>\n",
       "      <td>0</td>\n",
       "    </tr>\n",
       "    <tr>\n",
       "      <th>...</th>\n",
       "      <td>...</td>\n",
       "      <td>...</td>\n",
       "      <td>...</td>\n",
       "      <td>...</td>\n",
       "      <td>...</td>\n",
       "      <td>...</td>\n",
       "    </tr>\n",
       "    <tr>\n",
       "      <th>6848</th>\n",
       "      <td>5726219489a1e219009ac2d0</td>\n",
       "      <td>#VALUE!</td>\n",
       "      <td>In cases of shared physical medium how are the...</td>\n",
       "      <td>1</td>\n",
       "      <td>10</td>\n",
       "      <td>-9</td>\n",
       "    </tr>\n",
       "    <tr>\n",
       "      <th>6921</th>\n",
       "      <td>5a67aa48f038b7001ab0c3ff</td>\n",
       "      <td>What missionary actions led to law in 1994 no ...</td>\n",
       "      <td>What did missionaries cause to become law in 1...</td>\n",
       "      <td>10</td>\n",
       "      <td>9</td>\n",
       "      <td>1</td>\n",
       "    </tr>\n",
       "    <tr>\n",
       "      <th>6951</th>\n",
       "      <td>5a551230134fea001a0e18cc</td>\n",
       "      <td>#VALUE!</td>\n",
       "      <td>DECnet stands for what?</td>\n",
       "      <td>1</td>\n",
       "      <td>4</td>\n",
       "      <td>-3</td>\n",
       "    </tr>\n",
       "    <tr>\n",
       "      <th>6994</th>\n",
       "      <td>5729e38daf94a219006aa6a1</td>\n",
       "      <td>the U.S has What level of economic mobility in...</td>\n",
       "      <td>What level of economic mobility does the U.S. ...</td>\n",
       "      <td>15</td>\n",
       "      <td>14</td>\n",
       "      <td>1</td>\n",
       "    </tr>\n",
       "    <tr>\n",
       "      <th>7166</th>\n",
       "      <td>5727dd2e4b864d1900163ebd</td>\n",
       "      <td>what date did Harvard win an Intercolleiate Sa...</td>\n",
       "      <td>In what year did Harvard win an Intercolleiate...</td>\n",
       "      <td>11</td>\n",
       "      <td>12</td>\n",
       "      <td>-1</td>\n",
       "    </tr>\n",
       "  </tbody>\n",
       "</table>\n",
       "<p>141 rows × 6 columns</p>\n",
       "</div>"
      ]
     },
     "execution_count": 6,
     "metadata": {},
     "output_type": "execute_result"
    }
   ],
   "execution_count": 6
  },
  {
   "cell_type": "code",
   "id": "907f91b5-3c7f-496a-b2a0-f577fafcba74",
   "metadata": {
    "ExecuteTime": {
     "end_time": "2025-07-28T03:02:17.588291Z",
     "start_time": "2025-07-28T03:02:16.189Z"
    }
   },
   "source": [
    "import pandas as pd\n",
    "import nltk\n",
    "\n",
    "# Comparing train-dev-val data to see if there are consistent\n",
    "\n",
    "def calculate_levenshtein(example):\n",
    "    \"\"\"Calculates the Levenshtein distance between disfluent and original sentences.\"\"\"\n",
    "    disfluent = example['disfluent']\n",
    "    original = example['original']\n",
    "    distance = nltk.edit_distance(disfluent.lower().split(), original.lower().split())\n",
    "    example['levenshtein_distance'] = distance\n",
    "    return example\n",
    "\n",
    "def analyze_split(dataset_split):\n",
    "    \"\"\"Runs analysis on a single split of the dataset.\"\"\"\n",
    "    # Add lengths and distances\n",
    "    analyzed_split = dataset_split.map(\n",
    "        lambda x: {\n",
    "            'disfluent_length': len(x['disfluent'].split()),\n",
    "            'original_length': len(x['original'].split()),\n",
    "            'levenshtein_distance': nltk.edit_distance(x['disfluent'].lower().split(), x['original'].lower().split())\n",
    "        }\n",
    "    )\n",
    "\n",
    "    # Convert to pandas for easy calculation of stats\n",
    "    df = analyzed_split.to_pandas()\n",
    "\n",
    "    stats = {\n",
    "        'num_samples': len(df),\n",
    "        'avg_disfluent_len': df['disfluent_length'].mean(),\n",
    "        'avg_original_len': df['original_length'].mean(),\n",
    "        'avg_levenshtein_dist': df['levenshtein_distance'].mean()\n",
    "    }\n",
    "    return stats\n",
    "\n",
    "# --- Run analysis on all splits and compare ---\n",
    "all_stats = []\n",
    "for split_name in final_dataset.keys():\n",
    "    print(f\"Analyzing '{split_name}' split...\")\n",
    "    split_stats = analyze_split(final_dataset[split_name])\n",
    "    split_stats['split'] = split_name\n",
    "    all_stats.append(split_stats)\n",
    "\n",
    "# Create a comparison DataFrame\n",
    "comparison_df = pd.DataFrame(all_stats)\n",
    "comparison_df = comparison_df.set_index('split')\n",
    "\n",
    "print(\"\\n--- EDA Comparison Across Data Splits ---\")\n",
    "print(comparison_df.round(2))\n"
   ],
   "outputs": [
    {
     "name": "stdout",
     "output_type": "stream",
     "text": [
      "Analyzing 'train' split...\n"
     ]
    },
    {
     "data": {
      "text/plain": [
       "Map:   0%|          | 0/7182 [00:00<?, ? examples/s]"
      ],
      "application/vnd.jupyter.widget-view+json": {
       "version_major": 2,
       "version_minor": 0,
       "model_id": "6c97318bfd654d06ba8d5f2213be84cc"
      }
     },
     "metadata": {},
     "output_type": "display_data"
    },
    {
     "name": "stdout",
     "output_type": "stream",
     "text": [
      "Analyzing 'val' split...\n"
     ]
    },
    {
     "data": {
      "text/plain": [
       "Map:   0%|          | 0/1000 [00:00<?, ? examples/s]"
      ],
      "application/vnd.jupyter.widget-view+json": {
       "version_major": 2,
       "version_minor": 0,
       "model_id": "e3868ef4474c4247ac82c96c894d056b"
      }
     },
     "metadata": {},
     "output_type": "display_data"
    },
    {
     "name": "stdout",
     "output_type": "stream",
     "text": [
      "Analyzing 'test' split...\n"
     ]
    },
    {
     "data": {
      "text/plain": [
       "Map:   0%|          | 0/3643 [00:00<?, ? examples/s]"
      ],
      "application/vnd.jupyter.widget-view+json": {
       "version_major": 2,
       "version_minor": 0,
       "model_id": "138295d16e944d1697b3a06c60762561"
      }
     },
     "metadata": {},
     "output_type": "display_data"
    },
    {
     "name": "stdout",
     "output_type": "stream",
     "text": [
      "\n",
      "--- EDA Comparison Across Data Splits ---\n",
      "       num_samples  avg_disfluent_len  avg_original_len  avg_levenshtein_dist\n",
      "split                                                                        \n",
      "train         7182              14.52              9.83                  5.29\n",
      "val           1000              14.41              9.65                  5.40\n",
      "test          3643              15.22             10.50                  5.51\n"
     ]
    }
   ],
   "execution_count": 13
  },
  {
   "cell_type": "code",
   "id": "0c98e9c9-fec6-476c-8271-564c136e7b6e",
   "metadata": {
    "ExecuteTime": {
     "end_time": "2025-07-28T03:02:03.531846Z",
     "start_time": "2025-07-28T03:02:01.433792Z"
    }
   },
   "source": [
    "import numpy as np\n",
    "import pandas as pd\n",
    "from transformers import T5Tokenizer\n",
    "\n",
    "train_df = final_dataset['train'].to_pandas()\n",
    "val_df = final_dataset['val'].to_pandas()\n",
    "test_df = final_dataset['test'].to_pandas()\n",
    "all_data = pd.concat([train_df, val_df, test_df])\n",
    "\n",
    "# Tokenize and Get Lengths ---our T5 model\n",
    "tokenizer = T5Tokenizer.from_pretrained(\"t5-small\")\n",
    "source_lengths = [len(tokenizer(text, truncation=False).input_ids) for text in all_data['disfluent']]\n",
    "target_lengths = [len(tokenizer(text, truncation=False).input_ids) for text in all_data['original']]\n",
    "\n",
    "\n",
    "# Analyze the Lengths\n",
    "percentiles = [90, 95, 98, 99, 100]\n",
    "source_percentiles = np.percentile(source_lengths, percentiles)\n",
    "target_percentiles = np.percentile(target_lengths, percentiles)\n",
    "\n",
    "print(\"--- Source Text Token Length Analysis ---\")\n",
    "for p, v in zip(percentiles, source_percentiles):\n",
    "    print(f\"{p}th percentile: {v:.0f} tokens\")\n",
    "\n",
    "print(\"\\n--- Target Text Token Length Analysis ---\")\n",
    "for p, v in zip(percentiles, target_percentiles):\n",
    "    print(f\"{p}th percentile: {v:.0f} tokens\")"
   ],
   "outputs": [
    {
     "name": "stdout",
     "output_type": "stream",
     "text": [
      "--- Source Text Token Length Analysis ---\n",
      "90th percentile: 28 tokens\n",
      "95th percentile: 31 tokens\n",
      "98th percentile: 36 tokens\n",
      "99th percentile: 39 tokens\n",
      "100th percentile: 152 tokens\n",
      "\n",
      "--- Target Text Token Length Analysis ---\n",
      "90th percentile: 20 tokens\n",
      "95th percentile: 23 tokens\n",
      "98th percentile: 27 tokens\n",
      "99th percentile: 29 tokens\n",
      "100th percentile: 46 tokens\n"
     ]
    }
   ],
   "execution_count": 12
  },
  {
   "cell_type": "code",
   "id": "c2e35291-cf3d-4d58-a88d-462deca4e2c0",
   "metadata": {},
   "source": [],
   "outputs": [],
   "execution_count": null
  }
 ],
 "metadata": {
  "kernelspec": {
   "display_name": ".venv",
   "language": "python",
   "name": ".venv"
  },
  "language_info": {
   "codemirror_mode": {
    "name": "ipython",
    "version": 3
   },
   "file_extension": ".py",
   "mimetype": "text/x-python",
   "name": "python",
   "nbconvert_exporter": "python",
   "pygments_lexer": "ipython3",
   "version": "3.9.13"
  }
 },
 "nbformat": 4,
 "nbformat_minor": 5
}
